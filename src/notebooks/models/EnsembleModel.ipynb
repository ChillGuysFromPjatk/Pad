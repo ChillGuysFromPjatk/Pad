{
 "cells": [
  {
   "cell_type": "code",
   "execution_count": 1,
   "id": "initial_id",
   "metadata": {
    "ExecuteTime": {
     "end_time": "2025-01-30T17:51:37.758652Z",
     "start_time": "2025-01-30T17:51:32.468452Z"
    },
    "collapsed": true
   },
   "outputs": [],
   "source": [
    "from sklearn.model_selection import train_test_split\n",
    "from sklearn.linear_model import LinearRegression\n",
    "from sklearn.tree import DecisionTreeRegressor\n",
    "from sklearn.svm import SVR\n",
    "from sklearn.ensemble import VotingRegressor\n",
    "import pandas as pd\n"
   ]
  },
  {
   "cell_type": "code",
   "execution_count": 2,
   "id": "ed46310340c9ffad",
   "metadata": {
    "ExecuteTime": {
     "end_time": "2025-01-30T17:51:47.774574Z",
     "start_time": "2025-01-30T17:51:46.993001Z"
    }
   },
   "outputs": [],
   "source": [
    "df_encoded = pd.read_csv(r'../cleaned/output_ebay_encoded.csv')\n",
    "df_dropped = pd.read_csv(r'../cleaned/output_ebay_dropped.csv')"
   ]
  },
  {
   "cell_type": "code",
   "execution_count": 3,
   "id": "4321ae4ecc2733df",
   "metadata": {
    "ExecuteTime": {
     "end_time": "2025-01-30T17:51:49.742627Z",
     "start_time": "2025-01-30T17:51:49.652746Z"
    }
   },
   "outputs": [],
   "source": [
    "y_dropped = df_dropped['price_pln']\n",
    "X_dropped = df_dropped.drop(columns=['price_pln'])\n",
    "X_train_dropped, X_test_dropped, y_train_dropped, y_test_dropped = train_test_split(X_dropped, y_dropped, test_size=0.2, random_state=42)\n",
    "\n",
    "\n",
    "y_encoded = df_encoded['price_pln']\n",
    "X_encoded = df_encoded.drop(columns=['price_pln'])\n",
    "X_train_encoded, X_test_encoded, y_train_encoded, y_test_encoded = train_test_split(X_encoded, y_encoded, test_size=0.2, random_state=42)"
   ]
  },
  {
   "cell_type": "code",
   "execution_count": 6,
   "id": "37cb5ad3d59af05d",
   "metadata": {
    "ExecuteTime": {
     "end_time": "2025-01-30T17:51:55.154588Z",
     "start_time": "2025-01-30T17:51:55.146175Z"
    }
   },
   "outputs": [],
   "source": [
    "linear_regression = LinearRegression()\n",
    "decision_tree = DecisionTreeRegressor(random_state=42, ccp_alpha=0.0) #Tu trzeba podmienić alfę na tą z DecisionTree\n",
    "#svr_model = SVR(kernel='rbf', C=1.0, gamma=0.1, epsilon=0.1)\n",
    "\n",
    "ensemble = VotingRegressor(estimators=[('lr', linear_regression),('dt', decision_tree)]) #,('svc', svr_model)])"
   ]
  },
  {
   "cell_type": "code",
   "execution_count": 5,
   "id": "1430abb235f1783a",
   "metadata": {
    "ExecuteTime": {
     "start_time": "2025-01-30T17:51:59.437281Z"
    },
    "jupyter": {
     "is_executing": true
    }
   },
   "outputs": [],
   "source": [
    "ensemble_dropped = ensemble.fit(X_train_dropped, y_train_dropped)"
   ]
  },
  {
   "cell_type": "code",
   "execution_count": 7,
   "id": "5be3b5f8",
   "metadata": {},
   "outputs": [],
   "source": [
    "ensemble_encoded = ensemble.fit(X_train_encoded, y_train_encoded)"
   ]
  },
  {
   "cell_type": "code",
   "execution_count": 8,
   "id": "20a6a194db6f9b00",
   "metadata": {
    "ExecuteTime": {
     "end_time": "2025-01-30T13:11:17.565278Z",
     "start_time": "2025-01-30T13:11:17.522277Z"
    }
   },
   "outputs": [
    {
     "name": "stdout",
     "output_type": "stream",
     "text": [
      "0.3558021020563119\n"
     ]
    }
   ],
   "source": [
    "score = ensemble_dropped.score(X_test_dropped, y_test_dropped)\n",
    "print(score)"
   ]
  },
  {
   "cell_type": "code",
   "execution_count": 9,
   "id": "16cc0e76146df062",
   "metadata": {},
   "outputs": [
    {
     "name": "stdout",
     "output_type": "stream",
     "text": [
      "0.8689640142639115\n"
     ]
    }
   ],
   "source": [
    "score = ensemble_encoded.score(X_test_encoded, y_test_encoded)\n",
    "print(score)"
   ]
  },
  {
   "cell_type": "code",
   "execution_count": null,
   "id": "1549636c",
   "metadata": {},
   "outputs": [],
   "source": []
  }
 ],
 "metadata": {
  "kernelspec": {
   "display_name": "Python 3",
   "language": "python",
   "name": "python3"
  },
  "language_info": {
   "codemirror_mode": {
    "name": "ipython",
    "version": 3
   },
   "file_extension": ".py",
   "mimetype": "text/x-python",
   "name": "python",
   "nbconvert_exporter": "python",
   "pygments_lexer": "ipython3",
   "version": "3.13.0"
  }
 },
 "nbformat": 4,
 "nbformat_minor": 5
}
