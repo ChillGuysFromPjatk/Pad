{
 "cells": [
  {
   "cell_type": "code",
   "id": "initial_id",
   "metadata": {
    "collapsed": true,
    "ExecuteTime": {
     "end_time": "2025-01-30T17:51:37.758652Z",
     "start_time": "2025-01-30T17:51:32.468452Z"
    }
   },
   "source": [
    "from sklearn.model_selection import train_test_split\n",
    "from sklearn.linear_model import LinearRegression\n",
    "from sklearn.tree import DecisionTreeRegressor\n",
    "from sklearn.svm import SVR\n",
    "from sklearn.ensemble import VotingRegressor\n",
    "import pandas as pd\n"
   ],
   "outputs": [],
   "execution_count": 3
  },
  {
   "metadata": {
    "ExecuteTime": {
     "end_time": "2025-01-30T17:51:47.774574Z",
     "start_time": "2025-01-30T17:51:46.993001Z"
    }
   },
   "cell_type": "code",
   "source": [
    "df_encoded = pd.read_csv(r'../cleaned/output_ebay_encoded.csv')\n",
    "df_dropped = pd.read_csv(r'../cleaned/output_ebay_dropped.csv')"
   ],
   "id": "ed46310340c9ffad",
   "outputs": [],
   "execution_count": 4
  },
  {
   "metadata": {
    "ExecuteTime": {
     "end_time": "2025-01-30T17:51:49.742627Z",
     "start_time": "2025-01-30T17:51:49.652746Z"
    }
   },
   "cell_type": "code",
   "source": [
    "y_dropped = df_dropped['price_pln']\n",
    "X_dropped = df_dropped.drop(columns=['price_pln'])\n",
    "X_train_dropped, X_test_dropped, y_train_dropped, y_test_dropped = train_test_split(X_dropped, y_dropped, test_size=0.2, random_state=42)\n",
    "\n",
    "\n",
    "y_encoded = df_encoded['price_pln']\n",
    "X_encoded = df_encoded.drop(columns=['price_pln'])\n",
    "X_train_encoded, X_test_encoded, y_train_encoded, y_test_encoded = train_test_split(X_encoded, y_encoded, test_size=0.2, random_state=42)"
   ],
   "id": "4321ae4ecc2733df",
   "outputs": [],
   "execution_count": 5
  },
  {
   "metadata": {
    "ExecuteTime": {
     "end_time": "2025-01-30T17:51:55.154588Z",
     "start_time": "2025-01-30T17:51:55.146175Z"
    }
   },
   "cell_type": "code",
   "source": [
    "linear_regression = LinearRegression()\n",
    "decision_tree = DecisionTreeRegressor(random_state=42, ccp_alpha=0.01) #Tu trzeba podmienić alfę na tą z DecisionTree\n",
    "svr_model = SVR(kernel='rbf', C=1.0, gamma=0.1, epsilon=0.1)\n",
    "\n",
    "ensemble = VotingRegressor(estimators=[('lr', linear_regression),('dt', decision_tree),('svc', svr_model)])"
   ],
   "id": "37cb5ad3d59af05d",
   "outputs": [],
   "execution_count": 6
  },
  {
   "metadata": {
    "jupyter": {
     "is_executing": true
    },
    "ExecuteTime": {
     "start_time": "2025-01-30T17:51:59.437281Z"
    }
   },
   "cell_type": "code",
   "source": [
    "ensemble_dropped = ensemble.fit(X_train_dropped, y_train_dropped)\n",
    "ensemble_encoded = ensemble.fit(X_train_encoded, y_train_encoded)"
   ],
   "id": "1430abb235f1783a",
   "outputs": [],
   "execution_count": null
  },
  {
   "metadata": {
    "ExecuteTime": {
     "end_time": "2025-01-30T13:11:17.565278Z",
     "start_time": "2025-01-30T13:11:17.522277Z"
    }
   },
   "cell_type": "code",
   "source": [
    "score = ensemble_dropped.score(X_test_dropped, y_test_dropped)\n",
    "print(score)"
   ],
   "id": "20a6a194db6f9b00",
   "outputs": [
    {
     "ename": "NameError",
     "evalue": "name 'ensemble_dropped' is not defined",
     "output_type": "error",
     "traceback": [
      "\u001B[1;31m---------------------------------------------------------------------------\u001B[0m",
      "\u001B[1;31mNameError\u001B[0m                                 Traceback (most recent call last)",
      "Cell \u001B[1;32mIn[2], line 1\u001B[0m\n\u001B[1;32m----> 1\u001B[0m \u001B[43mensemble_dropped\u001B[49m\u001B[38;5;241m.\u001B[39mscore()\n",
      "\u001B[1;31mNameError\u001B[0m: name 'ensemble_dropped' is not defined"
     ]
    }
   ],
   "execution_count": 2
  },
  {
   "metadata": {},
   "cell_type": "code",
   "outputs": [],
   "execution_count": null,
   "source": [
    "score = ensemble_encoded.score(X_test_encoded, y_test_encoded)\n",
    "print(score)"
   ],
   "id": "16cc0e76146df062"
  }
 ],
 "metadata": {
  "kernelspec": {
   "display_name": "Python 3",
   "language": "python",
   "name": "python3"
  },
  "language_info": {
   "codemirror_mode": {
    "name": "ipython",
    "version": 2
   },
   "file_extension": ".py",
   "mimetype": "text/x-python",
   "name": "python",
   "nbconvert_exporter": "python",
   "pygments_lexer": "ipython2",
   "version": "2.7.6"
  }
 },
 "nbformat": 4,
 "nbformat_minor": 5
}
