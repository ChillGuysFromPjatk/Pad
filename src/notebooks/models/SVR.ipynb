{
 "cells": [
  {
   "cell_type": "code",
   "id": "initial_id",
   "metadata": {
    "collapsed": true,
    "ExecuteTime": {
     "end_time": "2025-01-30T12:58:58.021148Z",
     "start_time": "2025-01-30T12:58:55.817115Z"
    }
   },
   "source": [
    "from sklearn.svm import SVR\n",
    "from sklearn.preprocessing import StandardScaler\n",
    "from sklearn.metrics import mean_squared_error\n",
    "from sklearn.model_selection import train_test_split\n",
    "from sklearn.model_selection import GridSearchCV\n",
    "import pandas as pd\n",
    "import numpy as np"
   ],
   "outputs": [],
   "execution_count": 1
  },
  {
   "metadata": {
    "ExecuteTime": {
     "end_time": "2025-01-30T13:02:02.124490Z",
     "start_time": "2025-01-30T13:02:01.534938Z"
    }
   },
   "cell_type": "code",
   "source": [
    "df_encoded = pd.read_csv(r'../cleaned/output_ebay_encoded.csv')\n",
    "df_dropped = pd.read_csv(r'../cleaned/output_ebay_dropped.csv')"
   ],
   "id": "30b684db7c7d4f63",
   "outputs": [],
   "execution_count": 2
  },
  {
   "metadata": {
    "ExecuteTime": {
     "end_time": "2025-01-30T13:02:05.487149Z",
     "start_time": "2025-01-30T13:02:05.394430Z"
    }
   },
   "cell_type": "code",
   "source": [
    "scaler_x_dropped = StandardScaler()\n",
    "scaler_y_dropped = StandardScaler()\n",
    "\n",
    "y_dropped = df_dropped['price_pln'].values\n",
    "X_dropped = df_dropped.drop(columns=['price_pln'])\n",
    "\n",
    "X_train_dropped, X_test_dropped, y_train_dropped, y_test_dropped = train_test_split(X_dropped, y_dropped, test_size=0.2, random_state=42)\n",
    "\n",
    "X_train_scaled_dropped = scaler_x_dropped.fit_transform(X_train_dropped)\n",
    "X_test_scaled_dropped = scaler_x_dropped.transform(X_test_dropped)\n",
    "\n",
    "y_train_scaled_dropped = scaler_y_dropped.fit_transform(y_train_dropped.reshape(-1, 1)).ravel()\n",
    "y_test_scaled_dropped = scaler_y_dropped.transform(y_test_dropped.reshape(-1, 1)).ravel()"
   ],
   "id": "3a50d4d31fac4904",
   "outputs": [],
   "execution_count": 3
  },
  {
   "metadata": {
    "ExecuteTime": {
     "end_time": "2025-01-30T13:02:08.665059Z",
     "start_time": "2025-01-30T13:02:08.559640Z"
    }
   },
   "cell_type": "code",
   "source": [
    "scaler_x_encoded = StandardScaler()\n",
    "scaler_y_encoded = StandardScaler()\n",
    "\n",
    "y_encoded = df_encoded['price_pln'].values\n",
    "X_encoded = df_encoded.drop(columns=['price_pln'])\n",
    "\n",
    "X_train_encoded, X_test_encoded, y_train_encoded, y_test_encoded = train_test_split(X_encoded, y_encoded, test_size=0.2, random_state=42)\n",
    "\n",
    "X_train_scaled_encoded = scaler_x_encoded.fit_transform(X_train_encoded)\n",
    "X_test_scaled_encoded = scaler_x_encoded.transform(X_test_encoded)\n",
    "\n",
    "y_train_scaled_encoded = scaler_y_encoded.fit_transform(y_train_encoded.reshape(-1, 1)).ravel()\n",
    "y_test_scaled_encoded = scaler_y_encoded.transform(y_test_encoded.reshape(-1, 1)).ravel()"
   ],
   "id": "97c83e4361815cd5",
   "outputs": [],
   "execution_count": 4
  },
  {
   "metadata": {
    "jupyter": {
     "is_executing": true
    },
    "ExecuteTime": {
     "start_time": "2025-01-29T19:55:34.528782Z"
    }
   },
   "cell_type": "code",
   "source": [
    "param_grid = {\n",
    "    \"C\": np.arange(1, 100.0, 1.0),\n",
    "    \"epsilon\": np.arange(0.0, 1.0, 0.1),\n",
    "    \"gamma\": np.arange(0.0, 1.0, 0.1),\n",
    "}\n",
    "\n",
    "svr_encoded = SVR(kernel='rbf')\n",
    "grid_search = GridSearchCV(svr_encoded, param_grid, cv=5, scoring='neg_mean_squared_error')\n",
    "grid_search.fit(X_train_scaled_encoded, y_train_encoded)\n",
    "\n",
    "print(grid_search.best_estimator_)\n",
    "best_svr_encoded = grid_search.best_estimator_"
   ],
   "id": "530182454345b174",
   "outputs": [],
   "execution_count": null
  },
  {
   "metadata": {
    "ExecuteTime": {
     "end_time": "2025-01-29T19:47:37.033347Z",
     "start_time": "2025-01-29T19:47:36.233275Z"
    }
   },
   "cell_type": "code",
   "source": [
    "param_grid = {\n",
    "    \"C\": np.arange(1, 100.0, 1.0),\n",
    "    \"epsilon\": np.arange(0.0, 1.0, 0.1),\n",
    "    \"gamma\": np.arange(0.0, 1.0, 0.1),\n",
    "}\n",
    "\n",
    "svr_dropped = SVR(kernel='rbf')\n",
    "grid_search = GridSearchCV(svr_dropped, param_grid, cv=5, scoring='neg_mean_squared_error')\n",
    "grid_search.fit(X_train_scaled_dropped, y_train_dropped)\n",
    "\n",
    "print(grid_search.best_estimator_)\n",
    "best_svr_dropped = grid_search.best_estimator_"
   ],
   "id": "bc099637f10d8489",
   "outputs": [
    {
     "ename": "NameError",
     "evalue": "name 'np' is not defined",
     "output_type": "error",
     "traceback": [
      "\u001B[1;31m---------------------------------------------------------------------------\u001B[0m",
      "\u001B[1;31mNameError\u001B[0m                                 Traceback (most recent call last)",
      "Cell \u001B[1;32mIn[1], line 2\u001B[0m\n\u001B[0;32m      1\u001B[0m param_grid \u001B[38;5;241m=\u001B[39m {\n\u001B[1;32m----> 2\u001B[0m     \u001B[38;5;124m\"\u001B[39m\u001B[38;5;124mC\u001B[39m\u001B[38;5;124m\"\u001B[39m: \u001B[43mnp\u001B[49m\u001B[38;5;241m.\u001B[39marange(\u001B[38;5;241m1\u001B[39m, \u001B[38;5;241m100.0\u001B[39m, \u001B[38;5;241m1.0\u001B[39m),\n\u001B[0;32m      3\u001B[0m     \u001B[38;5;124m\"\u001B[39m\u001B[38;5;124mepsilon\u001B[39m\u001B[38;5;124m\"\u001B[39m: np\u001B[38;5;241m.\u001B[39marange(\u001B[38;5;241m0.0\u001B[39m, \u001B[38;5;241m1.0\u001B[39m, \u001B[38;5;241m0.1\u001B[39m),\n\u001B[0;32m      4\u001B[0m     \u001B[38;5;124m\"\u001B[39m\u001B[38;5;124mgamma\u001B[39m\u001B[38;5;124m\"\u001B[39m: np\u001B[38;5;241m.\u001B[39marange(\u001B[38;5;241m0.0\u001B[39m, \u001B[38;5;241m1.0\u001B[39m, \u001B[38;5;241m0.1\u001B[39m),\n\u001B[0;32m      5\u001B[0m }\n\u001B[0;32m      7\u001B[0m svr_dropped \u001B[38;5;241m=\u001B[39m SVR(kernel\u001B[38;5;241m=\u001B[39m\u001B[38;5;124m'\u001B[39m\u001B[38;5;124mrbf\u001B[39m\u001B[38;5;124m'\u001B[39m)\n\u001B[0;32m      8\u001B[0m grid_search \u001B[38;5;241m=\u001B[39m GridSearchCV(svr_dropped, param_grid, cv\u001B[38;5;241m=\u001B[39m\u001B[38;5;241m5\u001B[39m, scoring\u001B[38;5;241m=\u001B[39m\u001B[38;5;124m'\u001B[39m\u001B[38;5;124mneg_mean_squared_error\u001B[39m\u001B[38;5;124m'\u001B[39m)\n",
      "\u001B[1;31mNameError\u001B[0m: name 'np' is not defined"
     ]
    }
   ],
   "execution_count": 1
  },
  {
   "metadata": {
    "jupyter": {
     "is_executing": true
    },
    "ExecuteTime": {
     "start_time": "2025-01-30T13:02:14.399358Z"
    }
   },
   "cell_type": "code",
   "source": [
    "svr_final_encoded = SVR(kernel='rbf', C=7, epsilon=0.1, gamma=0.1)\n",
    "\n",
    "svr_final_encoded.fit(X_train_scaled_encoded, y_train_scaled_encoded)\n",
    "y_pred_scaled_encoded = svr_final_encoded.predict(X_test_scaled_encoded)\n",
    "y_pred_encoded = scaler_y_encoded.inverse_transform(y_pred_scaled_encoded.reshape(-1, 1)).ravel()\n",
    "\n",
    "rmse_encoded = np.sqrt(mean_squared_error(y_test_encoded, y_pred_encoded))\n",
    "print(f\"RMSE dla SVR: {rmse_encoded}\")"
   ],
   "id": "d99b0e896a8c00cf",
   "outputs": [],
   "execution_count": null
  },
  {
   "metadata": {},
   "cell_type": "code",
   "outputs": [],
   "execution_count": null,
   "source": [
    "svr_final_dropped = SVR(kernel='rbf', C=100, epsilon=0.1, gamma=0.1)\n",
    "\n",
    "svr_final_dropped.fit(X_train_scaled_dropped, y_train_scaled_dropped)\n",
    "y_pred_scaled_dropped = svr_final_dropped.predict(X_test_scaled_dropped)\n",
    "y_pred_dropped = scaler_y_dropped.inverse_transform(y_pred_scaled_dropped.reshape(-1, 1)).ravel()\n",
    "\n",
    "rmse_dropped = np.sqrt(mean_squared_error(y_test_dropped, y_pred_dropped))\n",
    "print(f\"RMSE dla SVR: {rmse_dropped}\")"
   ],
   "id": "e57acfbfee34e10c"
  },
  {
   "metadata": {},
   "cell_type": "code",
   "outputs": [],
   "execution_count": null,
   "source": [
    "svr_final_encoded.score(X_test_scaled_encoded, y_test_scaled_encoded)\n",
    "svr_final_dropped.score(X_test_scaled_dropped, y_test_scaled_dropped)"
   ],
   "id": "340dac967df5645d"
  }
 ],
 "metadata": {
  "kernelspec": {
   "display_name": "Python 3",
   "language": "python",
   "name": "python3"
  },
  "language_info": {
   "codemirror_mode": {
    "name": "ipython",
    "version": 2
   },
   "file_extension": ".py",
   "mimetype": "text/x-python",
   "name": "python",
   "nbconvert_exporter": "python",
   "pygments_lexer": "ipython2",
   "version": "2.7.6"
  }
 },
 "nbformat": 4,
 "nbformat_minor": 5
}
